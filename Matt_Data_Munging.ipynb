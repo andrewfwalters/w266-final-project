{
 "cells": [
  {
   "cell_type": "code",
   "execution_count": 169,
   "metadata": {},
   "outputs": [],
   "source": [
    "import pickle\n",
    "import numpy as np\n",
    "import matplotlib.pyplot as plt\n",
    "import pandas as pd\n",
    "import pickle"
   ]
  },
  {
   "cell_type": "markdown",
   "metadata": {},
   "source": [
    "## Load the pickle files and store in a nested dictionary"
   ]
  },
  {
   "cell_type": "code",
   "execution_count": 170,
   "metadata": {},
   "outputs": [],
   "source": [
    "base_params_1_1 = pd.read_pickle('params_base-fixed1_2018-12-04 05:07:11.657876.pkl')\n",
    "base_params_1_2 = pd.read_pickle('params_base-fixed2_2018-12-04 03:08:33.887391.pkl')\n",
    "base_params_1_3 = pd.read_pickle('params_base-fixed3_2018-12-04 01:09:50.883246.pkl')\n",
    "base_params_1_4 = pd.read_pickle('params_base-fixed4_2018-12-03 23:11:06.382615.pkl')\n",
    "base_params_1_5 = pd.read_pickle('params_base-fixed5_2018-12-03 21:12:35.259925.pkl')\n",
    "base_params_2_1 = pd.read_pickle('params_base-fixed21_2018-12-04 17:27:09.729303.pkl')\n",
    "base_params_2_2 = pd.read_pickle('params_base-fixed22_2018-12-04 15:28:58.846820.pkl')\n",
    "base_params_2_3 = pd.read_pickle('params_base-fixed23_2018-12-04 13:33:17.544658.pkl')\n",
    "base_params_2_4 = pd.read_pickle('params_base-fixed24_2018-12-04 11:38:20.769943.pkl')\n",
    "base_params_2_5 = pd.read_pickle('params_base-fixed25_2018-12-04 09:42:21.052069.pkl')\n",
    "\n",
    "fusion_params_1_1 = pd.read_pickle('params_fusion-fixed1_2018-12-04 05:07:09.851324.pkl')\n",
    "fusion_params_1_2 = pd.read_pickle('params_fusion-fixed2_2018-12-04 03:08:31.173583.pkl')\n",
    "fusion_params_1_3 = pd.read_pickle('params_fusion-fixed3_2018-12-04 01:09:47.756295.pkl')\n",
    "fusion_params_1_4 = pd.read_pickle('params_fusion-fixed4_2018-12-03 23:11:04.548999.pkl')\n",
    "fusion_params_1_5 = pd.read_pickle('params_fusion-fixed5_2018-12-03 21:12:33.107604.pkl')\n",
    "fusion_params_2_1 = pd.read_pickle('params_fusion-fixed21_2018-12-04 17:35:12.445809.pkl')\n",
    "fusion_params_2_2 = pd.read_pickle('params_fusion-fixed22_2018-12-04 15:42:57.499014.pkl')\n",
    "fusion_params_2_3 = pd.read_pickle('params_fusion-fixed23_2018-12-04 13:44:14.801293.pkl')\n",
    "fusion_params_2_4 = pd.read_pickle('params_fusion-fixed24_2018-12-04 11:45:30.036223.pkl')\n",
    "fusion_params_2_5 = pd.read_pickle('params_fusion-fixed25_2018-12-04 09:46:04.224632.pkl')\n",
    "\n",
    "base_acc_1_1 = pd.read_pickle('accuracy_base-fixed1_2018-12-04 05:07:11.657876.pkl')\n",
    "base_acc_1_2 = pd.read_pickle('accuracy_base-fixed2_2018-12-04 03:08:33.887391.pkl')\n",
    "base_acc_1_3 = pd.read_pickle('accuracy_base-fixed3_2018-12-04 01:09:50.883246.pkl')\n",
    "base_acc_1_4 = pd.read_pickle('accuracy_base-fixed4_2018-12-03 23:11:06.382615.pkl')\n",
    "base_acc_1_5 = pd.read_pickle('accuracy_base-fixed5_2018-12-03 21:12:35.259925.pkl')\n",
    "base_acc_2_1 = pd.read_pickle('accuracy_base-fixed21_2018-12-04 17:27:09.729303.pkl')\n",
    "base_acc_2_2 = pd.read_pickle('accuracy_base-fixed22_2018-12-04 15:28:58.846820.pkl')\n",
    "base_acc_2_3 = pd.read_pickle('accuracy_base-fixed23_2018-12-04 13:33:17.544658.pkl')\n",
    "base_acc_2_4 = pd.read_pickle('accuracy_base-fixed24_2018-12-04 11:38:20.769943.pkl')\n",
    "base_acc_2_5 = pd.read_pickle('accuracy_base-fixed25_2018-12-04 09:42:21.052069.pkl')\n",
    "\n",
    "fusion_acc_1_1 = pd.read_pickle('accuracy_fusion-fixed1_2018-12-04 05:07:09.851324.pkl')\n",
    "fusion_acc_1_2 = pd.read_pickle('accuracy_fusion-fixed2_2018-12-04 03:08:31.173583.pkl')\n",
    "fusion_acc_1_3 = pd.read_pickle('accuracy_fusion-fixed3_2018-12-04 01:09:47.756295.pkl')\n",
    "fusion_acc_1_4 = pd.read_pickle('accuracy_fusion-fixed4_2018-12-03 23:11:04.548999.pkl')\n",
    "fusion_acc_1_5 = pd.read_pickle('accuracy_fusion-fixed5_2018-12-03 21:12:33.107604.pkl')\n",
    "fusion_acc_2_1 = pd.read_pickle('accuracy_fusion-fixed21_2018-12-04 17:35:12.445809.pkl')\n",
    "fusion_acc_2_2 = pd.read_pickle('accuracy_fusion-fixed22_2018-12-04 15:42:57.499014.pkl')\n",
    "fusion_acc_2_3 = pd.read_pickle('accuracy_fusion-fixed23_2018-12-04 13:44:14.801293.pkl')\n",
    "fusion_acc_2_4 = pd.read_pickle('accuracy_fusion-fixed24_2018-12-04 11:45:30.036223.pkl')\n",
    "fusion_acc_2_5 = pd.read_pickle('accuracy_fusion-fixed25_2018-12-04 09:46:04.224632.pkl')\n",
    "\n",
    "fake_params_1 = pd.read_pickle('params_fusion20percentHuman_1_2018-12-05 00:12:05.239349.pkl')\n",
    "fake_params_2 = pd.read_pickle('params_fusion20percentHuman_2_2018-12-04 23:01:47.791898.pkl')\n",
    "fake_params_3 = pd.read_pickle('params_fusion40percentHuman_1_2018-12-05 02:37:11.393966.pkl')\n",
    "fake_params_4 = pd.read_pickle('params_fusion40percentHuman_2_2018-12-05 01:25:41.167751.pkl')\n",
    "fake_params_5 = pd.read_pickle('params_fusion60percentHuman_1_2018-12-05 05:03:01.994054.pkl')\n",
    "fake_params_6 = pd.read_pickle('params_fusion60percentHuman_2_2018-12-05 03:51:12.981805.pkl')\n",
    "fake_params_7 = pd.read_pickle('params_fusion80percentHuman_1_2018-12-05 07:31:32.173942.pkl')\n",
    "fake_params_8 = pd.read_pickle('params_fusion80percentHuman_2_2018-12-05 06:18:43.595559.pkl')\n",
    "fake_params_9 = pd.read_pickle('params_fusion100percentHuman_1_2018-12-05 10:01:26.830496.pkl')\n",
    "fake_params_10 = pd.read_pickle('params_fusion100percentHuman_2_2018-12-05 08:47:36.355627.pkl')\n",
    "\n",
    "fake_acc_1 = pd.read_pickle('accuracy_fusion20percentHuman_1_2018-12-05 00:12:05.239349.pkl')\n",
    "fake_acc_2 = pd.read_pickle('accuracy_fusion20percentHuman_2_2018-12-04 23:01:47.791898.pkl')\n",
    "fake_acc_3 = pd.read_pickle('accuracy_fusion40percentHuman_1_2018-12-05 02:37:11.393966.pkl')\n",
    "fake_acc_4 = pd.read_pickle('accuracy_fusion40percentHuman_2_2018-12-05 01:25:41.167751.pkl')\n",
    "fake_acc_5 = pd.read_pickle('accuracy_fusion60percentHuman_1_2018-12-05 05:03:01.994054.pkl')\n",
    "fake_acc_6 = pd.read_pickle('accuracy_fusion60percentHuman_2_2018-12-05 03:51:12.981805.pkl')\n",
    "fake_acc_7 = pd.read_pickle('accuracy_fusion80percentHuman_1_2018-12-05 07:31:32.173942.pkl')\n",
    "fake_acc_8 = pd.read_pickle('accuracy_fusion80percentHuman_2_2018-12-05 06:18:43.595559.pkl')\n",
    "fake_acc_9 = pd.read_pickle('accuracy_fusion100percentHuman_1_2018-12-05 10:01:26.830496.pkl')\n",
    "fake_acc_10 = pd.read_pickle('accuracy_fusion100percentHuman_2_2018-12-05 08:47:36.355627.pkl')\n",
    "\n",
    "data_base_1 = {\n",
    "    \"plot1\":[base_params_1_1, base_acc_1_1],\n",
    "    \"plot2\":[base_params_1_2, base_acc_1_2],\n",
    "    \"plot3\":[base_params_1_3, base_acc_1_3],\n",
    "    \"plot4\":[base_params_1_4, base_acc_1_4],\n",
    "    \"plot5\":[base_params_1_5, base_acc_1_5]\n",
    "}\n",
    "\n",
    "data_base_2 = {\n",
    "    \"plot1\":[base_params_2_1, base_acc_2_1],\n",
    "    \"plot2\":[base_params_2_2, base_acc_2_2],\n",
    "    \"plot3\":[base_params_2_3, base_acc_2_3],\n",
    "    \"plot4\":[base_params_2_4, base_acc_2_4],\n",
    "    \"plot5\":[base_params_2_5, base_acc_2_5]\n",
    "}\n",
    "\n",
    "data_fusion_1 = {\n",
    "    \"plot1\":[fusion_params_1_1, fusion_acc_1_1],\n",
    "    \"plot2\":[fusion_params_1_2, fusion_acc_1_2],\n",
    "    \"plot3\":[fusion_params_1_3, fusion_acc_1_3],\n",
    "    \"plot4\":[fusion_params_1_4, fusion_acc_1_4],\n",
    "    \"plot5\":[fusion_params_1_5, fusion_acc_1_5]\n",
    "}\n",
    "\n",
    "data_fusion_2 = {\n",
    "    \"plot1\":[fusion_params_2_1, fusion_acc_2_1],\n",
    "    \"plot2\":[fusion_params_2_2, fusion_acc_2_2],\n",
    "    \"plot3\":[fusion_params_2_3, fusion_acc_2_3],\n",
    "    \"plot4\":[fusion_params_2_4, fusion_acc_2_4],\n",
    "    \"plot5\":[fusion_params_2_5, fusion_acc_2_5]\n",
    "}\n",
    "\n",
    "data_fake = {\n",
    "    \"plot1\":[fake_params_1, fake_acc_1],\n",
    "    \"plot2\":[fake_params_2, fake_acc_2],\n",
    "    \"plot3\":[fake_params_3, fake_acc_3],\n",
    "    \"plot4\":[fake_params_4, fake_acc_4],\n",
    "    \"plot5\":[fake_params_5, fake_acc_5],\n",
    "    \"plot6\":[fake_params_6, fake_acc_6],\n",
    "    \"plot7\":[fake_params_7, fake_acc_7],\n",
    "    \"plot8\":[fake_params_8, fake_acc_8],\n",
    "    \"plot9\":[fake_params_9, fake_acc_9],\n",
    "    \"plot10\":[fake_params_10, fake_acc_10],\n",
    "}\n",
    "\n",
    "data_base = {\n",
    "    \"set1\":data_base_1,\n",
    "    \"set2\":data_base_2\n",
    "}\n",
    "\n",
    "data_fusion = {\n",
    "    \"set1\":data_fusion_1,\n",
    "    \"set2\":data_fusion_2\n",
    "}\n",
    "\n",
    "data = {\n",
    "    \"base\":data_base,\n",
    "    \"fusion\":data_fusion,\n",
    "    \"fake\":data_fake\n",
    "}"
   ]
  },
  {
   "cell_type": "markdown",
   "metadata": {},
   "source": [
    "## Define some functions to find the bounding line segments and to find the corresponding areas"
   ]
  },
  {
   "cell_type": "code",
   "execution_count": 171,
   "metadata": {},
   "outputs": [],
   "source": [
    "def find_max_slope(params, accuracy, x=0, y=.5):\n",
    "\n",
    "    max_slope = 0\n",
    "    for i in range(len(params)):\n",
    "        if ((accuracy[i] - y)/(params[i] - x)) > max_slope:\n",
    "            max_slope = ((accuracy[i] - y)/(params[i] - x))\n",
    "            index = i\n",
    "    \n",
    "    return params[index:], accuracy[index:], params[index], accuracy[index]\n",
    "    \n",
    "def convert_data(params, accuracy):\n",
    "    \n",
    "    params_list = [0]\n",
    "    accuracy_list = [.5]\n",
    "\n",
    "    params, accuracy, next_params, next_accuracy = find_max_slope(params, accuracy)\n",
    "\n",
    "    params_list.append(next_params)\n",
    "    accuracy_list.append(next_accuracy)\n",
    "\n",
    "    while True:\n",
    "        try:\n",
    "            params, accuracy, next_params, next_accuracy = find_max_slope(params, accuracy, next_params, next_accuracy)\n",
    "\n",
    "            params_list.append(next_params)\n",
    "            accuracy_list.append(next_accuracy)\n",
    "\n",
    "        except: \n",
    "            break\n",
    "    \n",
    "    return (params_list, accuracy_list)\n",
    "\n",
    "def calc_metric(data):\n",
    "    \n",
    "    params = data[0]\n",
    "    acc = data[1]\n",
    "    \n",
    "    area = 0\n",
    "    for i in range(len(params)-1):\n",
    "        delta_area = acc[i]*(params[i+1]-params[i])\n",
    "        area += delta_area\n",
    "        \n",
    "    for i in range(len(params)-1):\n",
    "        delta_area = (params[i+1]-params[i])*(acc[i+1]-acc[i])/2\n",
    "        area += delta_area\n",
    "\n",
    "    return (max(acc)*max(params) - area)"
   ]
  },
  {
   "cell_type": "markdown",
   "metadata": {},
   "source": [
    "## Calculate Evaluation Metric for All Runs"
   ]
  },
  {
   "cell_type": "code",
   "execution_count": 172,
   "metadata": {},
   "outputs": [
    {
     "name": "stdout",
     "output_type": "stream",
     "text": [
      "33759.763540290296\n",
      "35602.031208718196\n",
      "28159.332232496236\n",
      "25787.840158521198\n",
      "28869.918262880296\n"
     ]
    },
    {
     "name": "stderr",
     "output_type": "stream",
     "text": [
      "/home/matt/anaconda3/lib/python3.6/site-packages/ipykernel_launcher.py:5: RuntimeWarning: invalid value encountered in true_divide\n",
      "  \"\"\"\n"
     ]
    }
   ],
   "source": [
    "for i in [1,2,3,4,5]:\n",
    "    print(calc_metric(convert_data(data[\"base\"][\"set1\"][\"plot{}\".format(i)][0], data[\"base\"][\"set1\"][\"plot{}\".format(i)][1])))"
   ]
  },
  {
   "cell_type": "code",
   "execution_count": 173,
   "metadata": {},
   "outputs": [
    {
     "name": "stdout",
     "output_type": "stream",
     "text": [
      "38561.27080581151\n",
      "38381.09222258814\n",
      "35385.62211030442\n",
      "36255.64481505938\n",
      "35780.60031374078\n"
     ]
    },
    {
     "name": "stderr",
     "output_type": "stream",
     "text": [
      "/home/matt/anaconda3/lib/python3.6/site-packages/ipykernel_launcher.py:5: RuntimeWarning: invalid value encountered in true_divide\n",
      "  \"\"\"\n"
     ]
    }
   ],
   "source": [
    "for i in [1,2,3,4,5]:\n",
    "    print(calc_metric(convert_data(data[\"base\"][\"set2\"][\"plot{}\".format(i)][0], data[\"base\"][\"set2\"][\"plot{}\".format(i)][1])))"
   ]
  },
  {
   "cell_type": "code",
   "execution_count": 174,
   "metadata": {},
   "outputs": [
    {
     "name": "stdout",
     "output_type": "stream",
     "text": [
      "45218.73937322758\n",
      "53843.62093682308\n",
      "45525.76962827053\n",
      "45988.84997499548\n",
      "48643.16519419756\n"
     ]
    },
    {
     "name": "stderr",
     "output_type": "stream",
     "text": [
      "/home/matt/anaconda3/lib/python3.6/site-packages/ipykernel_launcher.py:5: RuntimeWarning: invalid value encountered in true_divide\n",
      "  \"\"\"\n"
     ]
    }
   ],
   "source": [
    "for i in [1,2,3,4,5]:\n",
    "    print(calc_metric(convert_data(data[\"fusion\"][\"set1\"][\"plot{}\".format(i)][0], data[\"fusion\"][\"set1\"][\"plot{}\".format(i)][1])))"
   ]
  },
  {
   "cell_type": "code",
   "execution_count": 175,
   "metadata": {},
   "outputs": [
    {
     "name": "stdout",
     "output_type": "stream",
     "text": [
      "43388.9564894326\n",
      "43605.98910171911\n",
      "45199.5847919425\n",
      "53769.93972919416\n",
      "38170.28409841517\n"
     ]
    },
    {
     "name": "stderr",
     "output_type": "stream",
     "text": [
      "/home/matt/anaconda3/lib/python3.6/site-packages/ipykernel_launcher.py:5: RuntimeWarning: invalid value encountered in true_divide\n",
      "  \"\"\"\n"
     ]
    }
   ],
   "source": [
    "for i in [1,2,3,4,5]:\n",
    "    print(calc_metric(convert_data(data[\"fusion\"][\"set2\"][\"plot{}\".format(i)][0], data[\"fusion\"][\"set2\"][\"plot{}\".format(i)][1])))"
   ]
  },
  {
   "cell_type": "code",
   "execution_count": 176,
   "metadata": {},
   "outputs": [
    {
     "name": "stdout",
     "output_type": "stream",
     "text": [
      "35271.43477542838\n",
      "29071.390108983498\n",
      "45261.69113276107\n",
      "39779.35625825543\n",
      "39194.01961189136\n",
      "42158.81407927349\n",
      "55403.39548772387\n",
      "26678.371930989437\n",
      "9349.84584013051\n",
      "28935.180424141698\n"
     ]
    },
    {
     "name": "stderr",
     "output_type": "stream",
     "text": [
      "/home/matt/anaconda3/lib/python3.6/site-packages/ipykernel_launcher.py:5: RuntimeWarning: invalid value encountered in true_divide\n",
      "  \"\"\"\n"
     ]
    }
   ],
   "source": [
    "for i in [1,2,3,4,5,6,7,8,9,10]:\n",
    "    print(calc_metric(convert_data(data[\"fake\"][\"plot{}\".format(i)][0], data[\"fake\"][\"plot{}\".format(i)][1])))"
   ]
  },
  {
   "cell_type": "markdown",
   "metadata": {},
   "source": [
    "## Make Example Plot"
   ]
  },
  {
   "cell_type": "code",
   "execution_count": 177,
   "metadata": {},
   "outputs": [
    {
     "name": "stderr",
     "output_type": "stream",
     "text": [
      "/home/matt/anaconda3/lib/python3.6/site-packages/ipykernel_launcher.py:5: RuntimeWarning: invalid value encountered in true_divide\n",
      "  \"\"\"\n"
     ]
    },
    {
     "data": {
      "text/plain": [
       "Text(0.5, 0, '# Discriminator Parameters')"
      ]
     },
     "execution_count": 177,
     "metadata": {},
     "output_type": "execute_result"
    },
    {
     "data": {
      "image/png": "[encoded data removed]",
      "text/plain": [
       "<Figure size 432x288 with 1 Axes>"
      ]
     },
     "metadata": {
      "needs_background": "light"
     },
     "output_type": "display_data"
    }
   ],
   "source": [
    "fig = plt.figure()\n",
    "ax1 = fig.add_subplot(111)\n",
    "\n",
    "scatterx = data[\"fake\"][\"plot1\"][0]\n",
    "scattery = data[\"fake\"][\"plot1\"][1]\n",
    "x,y = convert_data(scatterx,scattery)\n",
    "\n",
    "ax1.plot(x,y, label='Upper Bound')\n",
    "ax1.scatter(scatterx,scattery, s=7, c='r', marker=\"o\", label='Discriminator Perf.')\n",
    "ax1.axhline(y=max(scattery), color='black', linestyle='--', alpha=.4)\n",
    "plt.legend(loc='lower right')\n",
    "#plt.title(\"\")\n",
    "plt.ylabel(\"Test Accuracy\")\n",
    "plt.xlabel(\"# Discriminator Parameters\")"
   ]
  }
 ],
 "metadata": {
  "kernelspec": {
   "display_name": "Python 3",
   "language": "python",
   "name": "python3"
  },
  "language_info": {
   "codemirror_mode": {
    "name": "ipython",
    "version": 3
   },
   "file_extension": ".py",
   "mimetype": "text/x-python",
   "name": "python",
   "nbconvert_exporter": "python",
   "pygments_lexer": "ipython3",
   "version": "3.6.6"
  }
 },
 "nbformat": 4,
 "nbformat_minor": 2
}
